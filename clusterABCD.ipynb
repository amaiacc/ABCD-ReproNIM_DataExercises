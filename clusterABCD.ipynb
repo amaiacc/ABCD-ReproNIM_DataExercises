{
 "cells": [
  {
   "cell_type": "markdown",
   "metadata": {},
   "source": [
    "# Create a hierarchical clustering plot of your chosen features\n",
    "\n",
    "In a previous exercise, you created a subset of the ABCD 3.0 release that included 1,000 randomly chosen subjects and 20 hand selected features.\n",
    "\n",
    "After this notebook is run you should be able to:\n",
    "1. summarize the datatypes of the features that you selected.\n",
    "1. inspect correlations between your selected features.\n",
    "1. install and import a new python library.\n",
    "1. measure the similarity between two data records that contain both continuous and categorical data.\n",
    "1. visualize this similarity using a hierarchical clustering plot"
   ]
  },
  {
   "cell_type": "markdown",
   "metadata": {},
   "source": [
    "### Import all libraries\n",
    "By convention all libraries being used are read in at the top of a notebook/script."
   ]
  },
  {
   "cell_type": "code",
   "execution_count": 4,
   "metadata": {},
   "outputs": [],
   "source": [
    "import matplotlib.pyplot as plt  # fine tune control over visualizations\n",
    "import numpy as np  # to manipulate data/generate random numbers\n",
    "import pandas as pd  # to read/manipulate/write data from files\n",
    "import seaborn as sns  # static visualizations\n",
    "\n",
    "from scipy.cluster.hierarchy import cophenet, linkage, dendrogram  # to perform cluster analysis\n",
    "from scipy.spatial.distance import pdist, squareform  # to calculate distances and convert between condensed and square forms of a distance matrix\n",
    "from sklearn.preprocessing import MinMaxScaler  # To standardize our data before clustering"
   ]
  },
  {
   "cell_type": "markdown",
   "metadata": {},
   "source": [
    "Let's recover the subset data that you saved in a previous exercise. You saved that file with something like\n",
    "```\n",
    "subset_df.to_csv(\"my_dataset.tsv\", sep=\"\\t\", index=None)\n",
    "```\n",
    "Can you use the pandas `pd.read_csv` function to load your subset data into the dataframe `subset_df`?\n",
    "<details>\n",
    "<summary>Hint</summary>\n",
    "Try using `pd.read_csv()` with two of the arguments that you used to save the file.\n",
    "</details>"
   ]
  },
  {
   "cell_type": "code",
   "execution_count": 5,
   "metadata": {},
   "outputs": [
    {
     "data": {
      "text/html": [
       "<div>\n",
       "<style scoped>\n",
       "    .dataframe tbody tr th:only-of-type {\n",
       "        vertical-align: middle;\n",
       "    }\n",
       "\n",
       "    .dataframe tbody tr th {\n",
       "        vertical-align: top;\n",
       "    }\n",
       "\n",
       "    .dataframe thead th {\n",
       "        text-align: right;\n",
       "    }\n",
       "</style>\n",
       "<table border=\"1\" class=\"dataframe\">\n",
       "  <thead>\n",
       "    <tr style=\"text-align: right;\">\n",
       "      <th></th>\n",
       "      <th>subjectkey</th>\n",
       "      <th>interview_date</th>\n",
       "      <th>interview_age</th>\n",
       "      <th>sex</th>\n",
       "      <th>site_id_l</th>\n",
       "      <th>anthroheightcalc</th>\n",
       "      <th>anthroweightcalc</th>\n",
       "      <th>ehi_y_ss_scoreb</th>\n",
       "      <th>demo_comb_income_v2</th>\n",
       "      <th>snellen_aid_y</th>\n",
       "      <th>...</th>\n",
       "      <th>nihtbx_flanker_uncorrected</th>\n",
       "      <th>nihtbx_picvocab_uncorrected</th>\n",
       "      <th>nihtbx_fluidcomp_uncorrected</th>\n",
       "      <th>nihtbx_pattern_uncorrected</th>\n",
       "      <th>smri_vol_cdk_total</th>\n",
       "      <th>smri_vol_cdk_totallh</th>\n",
       "      <th>smri_vol_cdk_totalrh</th>\n",
       "      <th>mri_info_manufacturer</th>\n",
       "      <th>smri_vol_scs_putamenlh</th>\n",
       "      <th>smri_vol_scs_putamenrh</th>\n",
       "    </tr>\n",
       "  </thead>\n",
       "  <tbody>\n",
       "  </tbody>\n",
       "</table>\n",
       "<p>0 rows × 28 columns</p>\n",
       "</div>"
      ],
      "text/plain": [
       "Empty DataFrame\n",
       "Columns: [subjectkey, interview_date, interview_age, sex, site_id_l, anthroheightcalc, anthroweightcalc, ehi_y_ss_scoreb, demo_comb_income_v2, snellen_aid_y, cbcl_scr_dsm5_adhd_r, cbcl_scr_dsm5_adhd_t, scrn_commondx, scrn_asd, pps_y_ss_severity_score, pgbi_p_ss_score, sag_grade_type, nihtbx_reading_uncorrected, nihtbx_flanker_uncorrected, nihtbx_picvocab_uncorrected, nihtbx_fluidcomp_uncorrected, nihtbx_pattern_uncorrected, smri_vol_cdk_total, smri_vol_cdk_totallh, smri_vol_cdk_totalrh, mri_info_manufacturer, smri_vol_scs_putamenlh, smri_vol_scs_putamenrh]\n",
       "Index: []\n",
       "\n",
       "[0 rows x 28 columns]"
      ]
     },
     "execution_count": 5,
     "metadata": {},
     "output_type": "execute_result"
    }
   ],
   "source": [
    "# Insert code to load \"my_dataset.tsv\" as a pandas dataframe into the variable `subset_df`.\n",
    "subset_df=pd.read_csv(\"my_dataset.tsv\",sep=\"\\t\")\n",
    "# check that there are no duplicate ids\n",
    "subset_df_dup = subset_df[subset_df.duplicated('subjectkey')]\n",
    "subset_df_dup.head()"
   ]
  },
  {
   "cell_type": "markdown",
   "metadata": {},
   "source": [
    "Let's look at the first five rows of our data just to remind ourselves of what's in there."
   ]
  },
  {
   "cell_type": "code",
   "execution_count": 6,
   "metadata": {},
   "outputs": [
    {
     "data": {
      "text/html": [
       "<div>\n",
       "<style scoped>\n",
       "    .dataframe tbody tr th:only-of-type {\n",
       "        vertical-align: middle;\n",
       "    }\n",
       "\n",
       "    .dataframe tbody tr th {\n",
       "        vertical-align: top;\n",
       "    }\n",
       "\n",
       "    .dataframe thead th {\n",
       "        text-align: right;\n",
       "    }\n",
       "</style>\n",
       "<table border=\"1\" class=\"dataframe\">\n",
       "  <thead>\n",
       "    <tr style=\"text-align: right;\">\n",
       "      <th></th>\n",
       "      <th>subjectkey</th>\n",
       "      <th>interview_date</th>\n",
       "      <th>interview_age</th>\n",
       "      <th>sex</th>\n",
       "      <th>site_id_l</th>\n",
       "      <th>anthroheightcalc</th>\n",
       "      <th>anthroweightcalc</th>\n",
       "      <th>ehi_y_ss_scoreb</th>\n",
       "      <th>demo_comb_income_v2</th>\n",
       "      <th>snellen_aid_y</th>\n",
       "      <th>...</th>\n",
       "      <th>nihtbx_flanker_uncorrected</th>\n",
       "      <th>nihtbx_picvocab_uncorrected</th>\n",
       "      <th>nihtbx_fluidcomp_uncorrected</th>\n",
       "      <th>nihtbx_pattern_uncorrected</th>\n",
       "      <th>smri_vol_cdk_total</th>\n",
       "      <th>smri_vol_cdk_totallh</th>\n",
       "      <th>smri_vol_cdk_totalrh</th>\n",
       "      <th>mri_info_manufacturer</th>\n",
       "      <th>smri_vol_scs_putamenlh</th>\n",
       "      <th>smri_vol_scs_putamenrh</th>\n",
       "    </tr>\n",
       "  </thead>\n",
       "  <tbody>\n",
       "    <tr>\n",
       "      <th>0</th>\n",
       "      <td>NDAR_INV5J93LHWW</td>\n",
       "      <td>01/14/2018</td>\n",
       "      <td>108</td>\n",
       "      <td>M</td>\n",
       "      <td>site04</td>\n",
       "      <td>52.00</td>\n",
       "      <td>60.10000</td>\n",
       "      <td>3</td>\n",
       "      <td>6.0</td>\n",
       "      <td>1.0</td>\n",
       "      <td>...</td>\n",
       "      <td>99.0</td>\n",
       "      <td>71.0</td>\n",
       "      <td>77.0</td>\n",
       "      <td>47.0</td>\n",
       "      <td>572298.0</td>\n",
       "      <td>281787.0</td>\n",
       "      <td>290511.0</td>\n",
       "      <td>GE MEDICAL SYSTEMS</td>\n",
       "      <td>5568.6</td>\n",
       "      <td>5690.4</td>\n",
       "    </tr>\n",
       "    <tr>\n",
       "      <th>1</th>\n",
       "      <td>NDAR_INV8UTF6TC0</td>\n",
       "      <td>06/04/2018</td>\n",
       "      <td>111</td>\n",
       "      <td>M</td>\n",
       "      <td>site05</td>\n",
       "      <td>46.75</td>\n",
       "      <td>50.60000</td>\n",
       "      <td>3</td>\n",
       "      <td>1.0</td>\n",
       "      <td>1.0</td>\n",
       "      <td>...</td>\n",
       "      <td>59.0</td>\n",
       "      <td>53.0</td>\n",
       "      <td>48.0</td>\n",
       "      <td>63.0</td>\n",
       "      <td>473833.0</td>\n",
       "      <td>238442.0</td>\n",
       "      <td>235391.0</td>\n",
       "      <td>SIEMENS</td>\n",
       "      <td>4686.6</td>\n",
       "      <td>4468.7</td>\n",
       "    </tr>\n",
       "    <tr>\n",
       "      <th>2</th>\n",
       "      <td>NDAR_INVT12VNXF2</td>\n",
       "      <td>03/30/2018</td>\n",
       "      <td>109</td>\n",
       "      <td>F</td>\n",
       "      <td>site14</td>\n",
       "      <td>56.00</td>\n",
       "      <td>99.25145</td>\n",
       "      <td>1</td>\n",
       "      <td>9.0</td>\n",
       "      <td>0.0</td>\n",
       "      <td>...</td>\n",
       "      <td>92.0</td>\n",
       "      <td>78.0</td>\n",
       "      <td>89.0</td>\n",
       "      <td>84.0</td>\n",
       "      <td>561332.0</td>\n",
       "      <td>282036.0</td>\n",
       "      <td>279296.0</td>\n",
       "      <td>NaN</td>\n",
       "      <td>5136.9</td>\n",
       "      <td>4855.1</td>\n",
       "    </tr>\n",
       "    <tr>\n",
       "      <th>3</th>\n",
       "      <td>NDAR_INVXMNM5XM7</td>\n",
       "      <td>01/11/2018</td>\n",
       "      <td>109</td>\n",
       "      <td>F</td>\n",
       "      <td>site05</td>\n",
       "      <td>55.10</td>\n",
       "      <td>80.30000</td>\n",
       "      <td>1</td>\n",
       "      <td>6.0</td>\n",
       "      <td>0.0</td>\n",
       "      <td>...</td>\n",
       "      <td>98.0</td>\n",
       "      <td>83.0</td>\n",
       "      <td>90.0</td>\n",
       "      <td>74.0</td>\n",
       "      <td>621822.0</td>\n",
       "      <td>312458.0</td>\n",
       "      <td>309364.0</td>\n",
       "      <td>SIEMENS</td>\n",
       "      <td>6110.2</td>\n",
       "      <td>5360.0</td>\n",
       "    </tr>\n",
       "    <tr>\n",
       "      <th>4</th>\n",
       "      <td>NDAR_INV9W3PU5P5</td>\n",
       "      <td>10/01/2017</td>\n",
       "      <td>129</td>\n",
       "      <td>F</td>\n",
       "      <td>site09</td>\n",
       "      <td>56.00</td>\n",
       "      <td>64.25000</td>\n",
       "      <td>1</td>\n",
       "      <td>7.0</td>\n",
       "      <td>0.0</td>\n",
       "      <td>...</td>\n",
       "      <td>101.0</td>\n",
       "      <td>79.0</td>\n",
       "      <td>95.0</td>\n",
       "      <td>82.0</td>\n",
       "      <td>512395.0</td>\n",
       "      <td>257140.0</td>\n",
       "      <td>255255.0</td>\n",
       "      <td>SIEMENS</td>\n",
       "      <td>5787.0</td>\n",
       "      <td>5315.4</td>\n",
       "    </tr>\n",
       "  </tbody>\n",
       "</table>\n",
       "<p>5 rows × 28 columns</p>\n",
       "</div>"
      ],
      "text/plain": [
       "         subjectkey interview_date  interview_age sex site_id_l  \\\n",
       "0  NDAR_INV5J93LHWW     01/14/2018            108   M    site04   \n",
       "1  NDAR_INV8UTF6TC0     06/04/2018            111   M    site05   \n",
       "2  NDAR_INVT12VNXF2     03/30/2018            109   F    site14   \n",
       "3  NDAR_INVXMNM5XM7     01/11/2018            109   F    site05   \n",
       "4  NDAR_INV9W3PU5P5     10/01/2017            129   F    site09   \n",
       "\n",
       "   anthroheightcalc  anthroweightcalc  ehi_y_ss_scoreb  demo_comb_income_v2  \\\n",
       "0             52.00          60.10000                3                  6.0   \n",
       "1             46.75          50.60000                3                  1.0   \n",
       "2             56.00          99.25145                1                  9.0   \n",
       "3             55.10          80.30000                1                  6.0   \n",
       "4             56.00          64.25000                1                  7.0   \n",
       "\n",
       "   snellen_aid_y  ...  nihtbx_flanker_uncorrected  \\\n",
       "0            1.0  ...                        99.0   \n",
       "1            1.0  ...                        59.0   \n",
       "2            0.0  ...                        92.0   \n",
       "3            0.0  ...                        98.0   \n",
       "4            0.0  ...                       101.0   \n",
       "\n",
       "   nihtbx_picvocab_uncorrected  nihtbx_fluidcomp_uncorrected  \\\n",
       "0                         71.0                          77.0   \n",
       "1                         53.0                          48.0   \n",
       "2                         78.0                          89.0   \n",
       "3                         83.0                          90.0   \n",
       "4                         79.0                          95.0   \n",
       "\n",
       "   nihtbx_pattern_uncorrected  smri_vol_cdk_total  smri_vol_cdk_totallh  \\\n",
       "0                        47.0            572298.0              281787.0   \n",
       "1                        63.0            473833.0              238442.0   \n",
       "2                        84.0            561332.0              282036.0   \n",
       "3                        74.0            621822.0              312458.0   \n",
       "4                        82.0            512395.0              257140.0   \n",
       "\n",
       "   smri_vol_cdk_totalrh  mri_info_manufacturer  smri_vol_scs_putamenlh  \\\n",
       "0              290511.0     GE MEDICAL SYSTEMS                  5568.6   \n",
       "1              235391.0                SIEMENS                  4686.6   \n",
       "2              279296.0                    NaN                  5136.9   \n",
       "3              309364.0                SIEMENS                  6110.2   \n",
       "4              255255.0                SIEMENS                  5787.0   \n",
       "\n",
       "   smri_vol_scs_putamenrh  \n",
       "0                  5690.4  \n",
       "1                  4468.7  \n",
       "2                  4855.1  \n",
       "3                  5360.0  \n",
       "4                  5315.4  \n",
       "\n",
       "[5 rows x 28 columns]"
      ]
     },
     "execution_count": 6,
     "metadata": {},
     "output_type": "execute_result"
    }
   ],
   "source": [
    "subset_df.head()"
   ]
  },
  {
   "cell_type": "markdown",
   "metadata": {},
   "source": [
    "We see that \"subjectkey\" is one of the columns of our dataframe. We should make this column the \"index\" of the dataframe since each row corresponds to a unique subject ID."
   ]
  },
  {
   "cell_type": "code",
   "execution_count": 7,
   "metadata": {},
   "outputs": [],
   "source": [
    "subset_df.set_index(\"subjectkey\", inplace=True)"
   ]
  },
  {
   "cell_type": "markdown",
   "metadata": {},
   "source": [
    "Your `subset_df` dataframe should have a mix of continuous and categorical data.\n",
    "Furthermore, the continuous data might be subdivided into integer and float datatypes.\n",
    "Use the `info()` method of your pandas dataframe to inspect the datatypes of your\n",
    "previously selected features."
   ]
  },
  {
   "cell_type": "code",
   "execution_count": 29,
   "metadata": {},
   "outputs": [
    {
     "name": "stdout",
     "output_type": "stream",
     "text": [
      "<class 'pandas.core.frame.DataFrame'>\n",
      "Index: 1000 entries, NDAR_INV5J93LHWW to NDAR_INVE48TT5LN\n",
      "Data columns (total 27 columns):\n",
      " #   Column                        Non-Null Count  Dtype         \n",
      "---  ------                        --------------  -----         \n",
      " 0   interview_date                1000 non-null   datetime64[ns]\n",
      " 1   interview_age                 1000 non-null   int64         \n",
      " 2   sex                           1000 non-null   object        \n",
      " 3   site_id_l                     1000 non-null   object        \n",
      " 4   anthroheightcalc              999 non-null    float64       \n",
      " 5   anthroweightcalc              999 non-null    float64       \n",
      " 6   ehi_y_ss_scoreb               1000 non-null   int64         \n",
      " 7   demo_comb_income_v2           1000 non-null   float64       \n",
      " 8   snellen_aid_y                 995 non-null    float64       \n",
      " 9   cbcl_scr_dsm5_adhd_r          999 non-null    float64       \n",
      " 10  cbcl_scr_dsm5_adhd_t          999 non-null    float64       \n",
      " 11  scrn_commondx                 0 non-null      float64       \n",
      " 12  scrn_asd                      0 non-null      float64       \n",
      " 13  pps_y_ss_severity_score       999 non-null    float64       \n",
      " 14  pgbi_p_ss_score               998 non-null    float64       \n",
      " 15  sag_grade_type                0 non-null      float64       \n",
      " 16  nihtbx_reading_uncorrected    986 non-null    float64       \n",
      " 17  nihtbx_flanker_uncorrected    984 non-null    float64       \n",
      " 18  nihtbx_picvocab_uncorrected   986 non-null    float64       \n",
      " 19  nihtbx_fluidcomp_uncorrected  976 non-null    float64       \n",
      " 20  nihtbx_pattern_uncorrected    983 non-null    float64       \n",
      " 21  smri_vol_cdk_total            988 non-null    float64       \n",
      " 22  smri_vol_cdk_totallh          988 non-null    float64       \n",
      " 23  smri_vol_cdk_totalrh          988 non-null    float64       \n",
      " 24  mri_info_manufacturer         974 non-null    object        \n",
      " 25  smri_vol_scs_putamenlh        988 non-null    float64       \n",
      " 26  smri_vol_scs_putamenrh        988 non-null    float64       \n",
      "dtypes: datetime64[ns](1), float64(21), int64(2), object(3)\n",
      "memory usage: 218.8+ KB\n"
     ]
    }
   ],
   "source": [
    "subset_df.info()"
   ]
  },
  {
   "cell_type": "markdown",
   "metadata": {},
   "source": [
    "Your data should be different because you chose different features in the previous exercise. Look at the penultimate line. In this example, we have\n",
    "- nine (9) float type features\n",
    "- six (6) integer type features\n",
    "- four (4) \"object\" type features\n",
    "\n",
    "Those \"object\" type features are strings that encode categorical data.\n",
    "\n",
    "### Converting \"objects\" to \"datetime\" datatypes\n",
    "\n",
    "But wait, \"interview date\" isn't simply categorical data. That column contains strings that represent dates and dates can be treated as different types of data depending on the context. For example, you could treat dates as nominal categorical data if you are only concerned with the day of the week of the interview date. Or you could treat dates as interval data; the starting point is arbitrary but the units are fixed, so that \"12-24\" is not the double of \"6-12\".\n",
    "\n",
    "How you decide to use date data in your project is up to you, but in general it is good practice to let pandas know about date/time datatypes in your dataframe. Can you use the [`pd.to_datetime()`](https://pandas.pydata.org/pandas-docs/stable/reference/api/pandas.to_datetime.html#pandas-to-datetime) function to convert the \"interview_date\" column to a `datetime64` datatype?\n",
    "\n",
    "<details>\n",
    "<summary>Hint</summary>\n",
    "You can modify columns in-place by using the pattern\n",
    "\n",
    "`df[\"column_I_want_to_change\"] = coversion_function(df[\"column_I_want_to_change\"])`\n",
    "</details>"
   ]
  },
  {
   "cell_type": "code",
   "execution_count": 9,
   "metadata": {},
   "outputs": [],
   "source": [
    "# Insert code to convert the \"interview_date\" column to a datetime64 datetype.\n",
    "subset_df['interview_date'] = pd.to_datetime( subset_df['interview_date'] )\n"
   ]
  },
  {
   "cell_type": "markdown",
   "metadata": {},
   "source": [
    "Now let's look at the first few rows again. You can see that the \"interview_date\" column entries changed format but the underlying content is preserved."
   ]
  },
  {
   "cell_type": "code",
   "execution_count": 10,
   "metadata": {},
   "outputs": [
    {
     "data": {
      "text/html": [
       "<div>\n",
       "<style scoped>\n",
       "    .dataframe tbody tr th:only-of-type {\n",
       "        vertical-align: middle;\n",
       "    }\n",
       "\n",
       "    .dataframe tbody tr th {\n",
       "        vertical-align: top;\n",
       "    }\n",
       "\n",
       "    .dataframe thead th {\n",
       "        text-align: right;\n",
       "    }\n",
       "</style>\n",
       "<table border=\"1\" class=\"dataframe\">\n",
       "  <thead>\n",
       "    <tr style=\"text-align: right;\">\n",
       "      <th></th>\n",
       "      <th>interview_date</th>\n",
       "      <th>interview_age</th>\n",
       "      <th>sex</th>\n",
       "      <th>site_id_l</th>\n",
       "      <th>anthroheightcalc</th>\n",
       "      <th>anthroweightcalc</th>\n",
       "      <th>ehi_y_ss_scoreb</th>\n",
       "      <th>demo_comb_income_v2</th>\n",
       "      <th>snellen_aid_y</th>\n",
       "      <th>cbcl_scr_dsm5_adhd_r</th>\n",
       "      <th>...</th>\n",
       "      <th>nihtbx_flanker_uncorrected</th>\n",
       "      <th>nihtbx_picvocab_uncorrected</th>\n",
       "      <th>nihtbx_fluidcomp_uncorrected</th>\n",
       "      <th>nihtbx_pattern_uncorrected</th>\n",
       "      <th>smri_vol_cdk_total</th>\n",
       "      <th>smri_vol_cdk_totallh</th>\n",
       "      <th>smri_vol_cdk_totalrh</th>\n",
       "      <th>mri_info_manufacturer</th>\n",
       "      <th>smri_vol_scs_putamenlh</th>\n",
       "      <th>smri_vol_scs_putamenrh</th>\n",
       "    </tr>\n",
       "    <tr>\n",
       "      <th>subjectkey</th>\n",
       "      <th></th>\n",
       "      <th></th>\n",
       "      <th></th>\n",
       "      <th></th>\n",
       "      <th></th>\n",
       "      <th></th>\n",
       "      <th></th>\n",
       "      <th></th>\n",
       "      <th></th>\n",
       "      <th></th>\n",
       "      <th></th>\n",
       "      <th></th>\n",
       "      <th></th>\n",
       "      <th></th>\n",
       "      <th></th>\n",
       "      <th></th>\n",
       "      <th></th>\n",
       "      <th></th>\n",
       "      <th></th>\n",
       "      <th></th>\n",
       "      <th></th>\n",
       "    </tr>\n",
       "  </thead>\n",
       "  <tbody>\n",
       "    <tr>\n",
       "      <th>NDAR_INV5J93LHWW</th>\n",
       "      <td>2018-01-14</td>\n",
       "      <td>108</td>\n",
       "      <td>M</td>\n",
       "      <td>site04</td>\n",
       "      <td>52.00</td>\n",
       "      <td>60.10000</td>\n",
       "      <td>3</td>\n",
       "      <td>6.0</td>\n",
       "      <td>1.0</td>\n",
       "      <td>2.0</td>\n",
       "      <td>...</td>\n",
       "      <td>99.0</td>\n",
       "      <td>71.0</td>\n",
       "      <td>77.0</td>\n",
       "      <td>47.0</td>\n",
       "      <td>572298.0</td>\n",
       "      <td>281787.0</td>\n",
       "      <td>290511.0</td>\n",
       "      <td>GE MEDICAL SYSTEMS</td>\n",
       "      <td>5568.6</td>\n",
       "      <td>5690.4</td>\n",
       "    </tr>\n",
       "    <tr>\n",
       "      <th>NDAR_INV8UTF6TC0</th>\n",
       "      <td>2018-06-04</td>\n",
       "      <td>111</td>\n",
       "      <td>M</td>\n",
       "      <td>site05</td>\n",
       "      <td>46.75</td>\n",
       "      <td>50.60000</td>\n",
       "      <td>3</td>\n",
       "      <td>1.0</td>\n",
       "      <td>1.0</td>\n",
       "      <td>6.0</td>\n",
       "      <td>...</td>\n",
       "      <td>59.0</td>\n",
       "      <td>53.0</td>\n",
       "      <td>48.0</td>\n",
       "      <td>63.0</td>\n",
       "      <td>473833.0</td>\n",
       "      <td>238442.0</td>\n",
       "      <td>235391.0</td>\n",
       "      <td>SIEMENS</td>\n",
       "      <td>4686.6</td>\n",
       "      <td>4468.7</td>\n",
       "    </tr>\n",
       "    <tr>\n",
       "      <th>NDAR_INVT12VNXF2</th>\n",
       "      <td>2018-03-30</td>\n",
       "      <td>109</td>\n",
       "      <td>F</td>\n",
       "      <td>site14</td>\n",
       "      <td>56.00</td>\n",
       "      <td>99.25145</td>\n",
       "      <td>1</td>\n",
       "      <td>9.0</td>\n",
       "      <td>0.0</td>\n",
       "      <td>0.0</td>\n",
       "      <td>...</td>\n",
       "      <td>92.0</td>\n",
       "      <td>78.0</td>\n",
       "      <td>89.0</td>\n",
       "      <td>84.0</td>\n",
       "      <td>561332.0</td>\n",
       "      <td>282036.0</td>\n",
       "      <td>279296.0</td>\n",
       "      <td>NaN</td>\n",
       "      <td>5136.9</td>\n",
       "      <td>4855.1</td>\n",
       "    </tr>\n",
       "    <tr>\n",
       "      <th>NDAR_INVXMNM5XM7</th>\n",
       "      <td>2018-01-11</td>\n",
       "      <td>109</td>\n",
       "      <td>F</td>\n",
       "      <td>site05</td>\n",
       "      <td>55.10</td>\n",
       "      <td>80.30000</td>\n",
       "      <td>1</td>\n",
       "      <td>6.0</td>\n",
       "      <td>0.0</td>\n",
       "      <td>0.0</td>\n",
       "      <td>...</td>\n",
       "      <td>98.0</td>\n",
       "      <td>83.0</td>\n",
       "      <td>90.0</td>\n",
       "      <td>74.0</td>\n",
       "      <td>621822.0</td>\n",
       "      <td>312458.0</td>\n",
       "      <td>309364.0</td>\n",
       "      <td>SIEMENS</td>\n",
       "      <td>6110.2</td>\n",
       "      <td>5360.0</td>\n",
       "    </tr>\n",
       "    <tr>\n",
       "      <th>NDAR_INV9W3PU5P5</th>\n",
       "      <td>2017-10-01</td>\n",
       "      <td>129</td>\n",
       "      <td>F</td>\n",
       "      <td>site09</td>\n",
       "      <td>56.00</td>\n",
       "      <td>64.25000</td>\n",
       "      <td>1</td>\n",
       "      <td>7.0</td>\n",
       "      <td>0.0</td>\n",
       "      <td>0.0</td>\n",
       "      <td>...</td>\n",
       "      <td>101.0</td>\n",
       "      <td>79.0</td>\n",
       "      <td>95.0</td>\n",
       "      <td>82.0</td>\n",
       "      <td>512395.0</td>\n",
       "      <td>257140.0</td>\n",
       "      <td>255255.0</td>\n",
       "      <td>SIEMENS</td>\n",
       "      <td>5787.0</td>\n",
       "      <td>5315.4</td>\n",
       "    </tr>\n",
       "  </tbody>\n",
       "</table>\n",
       "<p>5 rows × 27 columns</p>\n",
       "</div>"
      ],
      "text/plain": [
       "                 interview_date  interview_age sex site_id_l  \\\n",
       "subjectkey                                                     \n",
       "NDAR_INV5J93LHWW     2018-01-14            108   M    site04   \n",
       "NDAR_INV8UTF6TC0     2018-06-04            111   M    site05   \n",
       "NDAR_INVT12VNXF2     2018-03-30            109   F    site14   \n",
       "NDAR_INVXMNM5XM7     2018-01-11            109   F    site05   \n",
       "NDAR_INV9W3PU5P5     2017-10-01            129   F    site09   \n",
       "\n",
       "                  anthroheightcalc  anthroweightcalc  ehi_y_ss_scoreb  \\\n",
       "subjectkey                                                              \n",
       "NDAR_INV5J93LHWW             52.00          60.10000                3   \n",
       "NDAR_INV8UTF6TC0             46.75          50.60000                3   \n",
       "NDAR_INVT12VNXF2             56.00          99.25145                1   \n",
       "NDAR_INVXMNM5XM7             55.10          80.30000                1   \n",
       "NDAR_INV9W3PU5P5             56.00          64.25000                1   \n",
       "\n",
       "                  demo_comb_income_v2  snellen_aid_y  cbcl_scr_dsm5_adhd_r  \\\n",
       "subjectkey                                                                   \n",
       "NDAR_INV5J93LHWW                  6.0            1.0                   2.0   \n",
       "NDAR_INV8UTF6TC0                  1.0            1.0                   6.0   \n",
       "NDAR_INVT12VNXF2                  9.0            0.0                   0.0   \n",
       "NDAR_INVXMNM5XM7                  6.0            0.0                   0.0   \n",
       "NDAR_INV9W3PU5P5                  7.0            0.0                   0.0   \n",
       "\n",
       "                  ...  nihtbx_flanker_uncorrected  \\\n",
       "subjectkey        ...                               \n",
       "NDAR_INV5J93LHWW  ...                        99.0   \n",
       "NDAR_INV8UTF6TC0  ...                        59.0   \n",
       "NDAR_INVT12VNXF2  ...                        92.0   \n",
       "NDAR_INVXMNM5XM7  ...                        98.0   \n",
       "NDAR_INV9W3PU5P5  ...                       101.0   \n",
       "\n",
       "                  nihtbx_picvocab_uncorrected  nihtbx_fluidcomp_uncorrected  \\\n",
       "subjectkey                                                                    \n",
       "NDAR_INV5J93LHWW                         71.0                          77.0   \n",
       "NDAR_INV8UTF6TC0                         53.0                          48.0   \n",
       "NDAR_INVT12VNXF2                         78.0                          89.0   \n",
       "NDAR_INVXMNM5XM7                         83.0                          90.0   \n",
       "NDAR_INV9W3PU5P5                         79.0                          95.0   \n",
       "\n",
       "                  nihtbx_pattern_uncorrected  smri_vol_cdk_total  \\\n",
       "subjectkey                                                         \n",
       "NDAR_INV5J93LHWW                        47.0            572298.0   \n",
       "NDAR_INV8UTF6TC0                        63.0            473833.0   \n",
       "NDAR_INVT12VNXF2                        84.0            561332.0   \n",
       "NDAR_INVXMNM5XM7                        74.0            621822.0   \n",
       "NDAR_INV9W3PU5P5                        82.0            512395.0   \n",
       "\n",
       "                  smri_vol_cdk_totallh  smri_vol_cdk_totalrh  \\\n",
       "subjectkey                                                     \n",
       "NDAR_INV5J93LHWW              281787.0              290511.0   \n",
       "NDAR_INV8UTF6TC0              238442.0              235391.0   \n",
       "NDAR_INVT12VNXF2              282036.0              279296.0   \n",
       "NDAR_INVXMNM5XM7              312458.0              309364.0   \n",
       "NDAR_INV9W3PU5P5              257140.0              255255.0   \n",
       "\n",
       "                  mri_info_manufacturer  smri_vol_scs_putamenlh  \\\n",
       "subjectkey                                                        \n",
       "NDAR_INV5J93LHWW     GE MEDICAL SYSTEMS                  5568.6   \n",
       "NDAR_INV8UTF6TC0                SIEMENS                  4686.6   \n",
       "NDAR_INVT12VNXF2                    NaN                  5136.9   \n",
       "NDAR_INVXMNM5XM7                SIEMENS                  6110.2   \n",
       "NDAR_INV9W3PU5P5                SIEMENS                  5787.0   \n",
       "\n",
       "                  smri_vol_scs_putamenrh  \n",
       "subjectkey                                \n",
       "NDAR_INV5J93LHWW                  5690.4  \n",
       "NDAR_INV8UTF6TC0                  4468.7  \n",
       "NDAR_INVT12VNXF2                  4855.1  \n",
       "NDAR_INVXMNM5XM7                  5360.0  \n",
       "NDAR_INV9W3PU5P5                  5315.4  \n",
       "\n",
       "[5 rows x 27 columns]"
      ]
     },
     "execution_count": 10,
     "metadata": {},
     "output_type": "execute_result"
    }
   ],
   "source": [
    "subset_df.head()"
   ]
  },
  {
   "cell_type": "markdown",
   "metadata": {},
   "source": [
    "And you can use `subset_df.info()` to confirm that \"interview_date\" now has the type `datetime64`."
   ]
  },
  {
   "cell_type": "code",
   "execution_count": 11,
   "metadata": {},
   "outputs": [
    {
     "name": "stdout",
     "output_type": "stream",
     "text": [
      "<class 'pandas.core.frame.DataFrame'>\n",
      "Index: 1000 entries, NDAR_INV5J93LHWW to NDAR_INVE48TT5LN\n",
      "Data columns (total 27 columns):\n",
      " #   Column                        Non-Null Count  Dtype         \n",
      "---  ------                        --------------  -----         \n",
      " 0   interview_date                1000 non-null   datetime64[ns]\n",
      " 1   interview_age                 1000 non-null   int64         \n",
      " 2   sex                           1000 non-null   object        \n",
      " 3   site_id_l                     1000 non-null   object        \n",
      " 4   anthroheightcalc              999 non-null    float64       \n",
      " 5   anthroweightcalc              999 non-null    float64       \n",
      " 6   ehi_y_ss_scoreb               1000 non-null   int64         \n",
      " 7   demo_comb_income_v2           1000 non-null   float64       \n",
      " 8   snellen_aid_y                 995 non-null    float64       \n",
      " 9   cbcl_scr_dsm5_adhd_r          999 non-null    float64       \n",
      " 10  cbcl_scr_dsm5_adhd_t          999 non-null    float64       \n",
      " 11  scrn_commondx                 0 non-null      float64       \n",
      " 12  scrn_asd                      0 non-null      float64       \n",
      " 13  pps_y_ss_severity_score       999 non-null    float64       \n",
      " 14  pgbi_p_ss_score               998 non-null    float64       \n",
      " 15  sag_grade_type                0 non-null      float64       \n",
      " 16  nihtbx_reading_uncorrected    986 non-null    float64       \n",
      " 17  nihtbx_flanker_uncorrected    984 non-null    float64       \n",
      " 18  nihtbx_picvocab_uncorrected   986 non-null    float64       \n",
      " 19  nihtbx_fluidcomp_uncorrected  976 non-null    float64       \n",
      " 20  nihtbx_pattern_uncorrected    983 non-null    float64       \n",
      " 21  smri_vol_cdk_total            988 non-null    float64       \n",
      " 22  smri_vol_cdk_totallh          988 non-null    float64       \n",
      " 23  smri_vol_cdk_totalrh          988 non-null    float64       \n",
      " 24  mri_info_manufacturer         974 non-null    object        \n",
      " 25  smri_vol_scs_putamenlh        988 non-null    float64       \n",
      " 26  smri_vol_scs_putamenrh        988 non-null    float64       \n",
      "dtypes: datetime64[ns](1), float64(21), int64(2), object(3)\n",
      "memory usage: 218.8+ KB\n"
     ]
    }
   ],
   "source": [
    "subset_df.info()"
   ]
  },
  {
   "cell_type": "markdown",
   "metadata": {},
   "source": [
    "## Examining the correlations between different features\n",
    "\n",
    "Now that we've prepared our subset dataframe, we'd like to understand which features are similar and which are dissimilar. We may wish to group certain features together and apply different rules to these separate groups rather that to the individual features. In machine learning, this process is called clustering and there is an expansive literature on the subject that is well beyond the scope of this notebook.\n",
    "\n",
    "For our purposes, we will compute the similarity between different features and then visualize using a hierarchical clustering plot. We will call the similarity between two features (or two subjects for that matter) a \"distance.\" When computing distances, it is important to standardize the data to avoid dependence on the datatypes or the choice of measurement units. We will attempt to standardize our data so that the maximum distance between subjects for any given feature is 1.0 and the minimum distance is 0.0.\n",
    "\n",
    "### Categorical features\n",
    "\n",
    "We will start by separating our subset data into different datatypes.\n",
    "\n",
    "To begin with, let's separate out our categorical data. We can do this using the [`select_dtypes()`](https://pandas.pydata.org/pandas-docs/stable/reference/api/pandas.DataFrame.select_dtypes.html#pandas-dataframe-select-dtypes) method of our `subset_df` dataframe."
   ]
  },
  {
   "cell_type": "code",
   "execution_count": 12,
   "metadata": {},
   "outputs": [
    {
     "name": "stdout",
     "output_type": "stream",
     "text": [
      "<class 'pandas.core.frame.DataFrame'>\n",
      "Index: 1000 entries, NDAR_INV5J93LHWW to NDAR_INVE48TT5LN\n",
      "Data columns (total 3 columns):\n",
      " #   Column                 Non-Null Count  Dtype \n",
      "---  ------                 --------------  ----- \n",
      " 0   sex                    1000 non-null   object\n",
      " 1   site_id_l              1000 non-null   object\n",
      " 2   mri_info_manufacturer  974 non-null    object\n",
      "dtypes: object(3)\n",
      "memory usage: 31.2+ KB\n"
     ]
    }
   ],
   "source": [
    "cat_df = subset_df.select_dtypes(include=[\"object\"])\n",
    "cat_df.info()"
   ]
  },
  {
   "cell_type": "code",
   "execution_count": 13,
   "metadata": {},
   "outputs": [
    {
     "data": {
      "text/html": [
       "<div>\n",
       "<style scoped>\n",
       "    .dataframe tbody tr th:only-of-type {\n",
       "        vertical-align: middle;\n",
       "    }\n",
       "\n",
       "    .dataframe tbody tr th {\n",
       "        vertical-align: top;\n",
       "    }\n",
       "\n",
       "    .dataframe thead th {\n",
       "        text-align: right;\n",
       "    }\n",
       "</style>\n",
       "<table border=\"1\" class=\"dataframe\">\n",
       "  <thead>\n",
       "    <tr style=\"text-align: right;\">\n",
       "      <th></th>\n",
       "      <th>sex</th>\n",
       "      <th>site_id_l</th>\n",
       "      <th>mri_info_manufacturer</th>\n",
       "    </tr>\n",
       "    <tr>\n",
       "      <th>subjectkey</th>\n",
       "      <th></th>\n",
       "      <th></th>\n",
       "      <th></th>\n",
       "    </tr>\n",
       "  </thead>\n",
       "  <tbody>\n",
       "    <tr>\n",
       "      <th>NDAR_INV5J93LHWW</th>\n",
       "      <td>M</td>\n",
       "      <td>site04</td>\n",
       "      <td>GE MEDICAL SYSTEMS</td>\n",
       "    </tr>\n",
       "    <tr>\n",
       "      <th>NDAR_INV8UTF6TC0</th>\n",
       "      <td>M</td>\n",
       "      <td>site05</td>\n",
       "      <td>SIEMENS</td>\n",
       "    </tr>\n",
       "    <tr>\n",
       "      <th>NDAR_INVT12VNXF2</th>\n",
       "      <td>F</td>\n",
       "      <td>site14</td>\n",
       "      <td>NaN</td>\n",
       "    </tr>\n",
       "    <tr>\n",
       "      <th>NDAR_INVXMNM5XM7</th>\n",
       "      <td>F</td>\n",
       "      <td>site05</td>\n",
       "      <td>SIEMENS</td>\n",
       "    </tr>\n",
       "    <tr>\n",
       "      <th>NDAR_INV9W3PU5P5</th>\n",
       "      <td>F</td>\n",
       "      <td>site09</td>\n",
       "      <td>SIEMENS</td>\n",
       "    </tr>\n",
       "  </tbody>\n",
       "</table>\n",
       "</div>"
      ],
      "text/plain": [
       "                 sex site_id_l mri_info_manufacturer\n",
       "subjectkey                                          \n",
       "NDAR_INV5J93LHWW   M    site04    GE MEDICAL SYSTEMS\n",
       "NDAR_INV8UTF6TC0   M    site05               SIEMENS\n",
       "NDAR_INVT12VNXF2   F    site14                   NaN\n",
       "NDAR_INVXMNM5XM7   F    site05               SIEMENS\n",
       "NDAR_INV9W3PU5P5   F    site09               SIEMENS"
      ]
     },
     "execution_count": 13,
     "metadata": {},
     "output_type": "execute_result"
    }
   ],
   "source": [
    "cat_df.head()"
   ]
  },
  {
   "cell_type": "markdown",
   "metadata": {},
   "source": [
    "We can convert the text-based categorical features into a larger binary feature space using the [`pd.get_dummies()`](https://pandas.pydata.org/pandas-docs/stable/reference/api/pandas.get_dummies.html#pandas-get-dummies) function. This converts the categorical variables into indicator variables. We will use the `drop_first` parameter to get $k-1$ indicator variables out of $k$ categorical variables."
   ]
  },
  {
   "cell_type": "code",
   "execution_count": 14,
   "metadata": {},
   "outputs": [],
   "source": [
    "cat_features = pd.get_dummies(cat_df, drop_first=True)"
   ]
  },
  {
   "cell_type": "code",
   "execution_count": 57,
   "metadata": {},
   "outputs": [
    {
     "name": "stdout",
     "output_type": "stream",
     "text": [
      "<class 'pandas.core.frame.DataFrame'>\n",
      "Index: 1000 entries, NDAR_INV5J93LHWW to NDAR_INVE48TT5LN\n",
      "Data columns (total 24 columns):\n",
      " #   Column                                         Non-Null Count  Dtype\n",
      "---  ------                                         --------------  -----\n",
      " 0   sex_M                                          1000 non-null   uint8\n",
      " 1   site_id_l_site02                               1000 non-null   uint8\n",
      " 2   site_id_l_site03                               1000 non-null   uint8\n",
      " 3   site_id_l_site04                               1000 non-null   uint8\n",
      " 4   site_id_l_site05                               1000 non-null   uint8\n",
      " 5   site_id_l_site06                               1000 non-null   uint8\n",
      " 6   site_id_l_site07                               1000 non-null   uint8\n",
      " 7   site_id_l_site08                               1000 non-null   uint8\n",
      " 8   site_id_l_site09                               1000 non-null   uint8\n",
      " 9   site_id_l_site10                               1000 non-null   uint8\n",
      " 10  site_id_l_site11                               1000 non-null   uint8\n",
      " 11  site_id_l_site12                               1000 non-null   uint8\n",
      " 12  site_id_l_site13                               1000 non-null   uint8\n",
      " 13  site_id_l_site14                               1000 non-null   uint8\n",
      " 14  site_id_l_site15                               1000 non-null   uint8\n",
      " 15  site_id_l_site16                               1000 non-null   uint8\n",
      " 16  site_id_l_site17                               1000 non-null   uint8\n",
      " 17  site_id_l_site18                               1000 non-null   uint8\n",
      " 18  site_id_l_site19                               1000 non-null   uint8\n",
      " 19  site_id_l_site20                               1000 non-null   uint8\n",
      " 20  site_id_l_site21                               1000 non-null   uint8\n",
      " 21  site_id_l_site22                               1000 non-null   uint8\n",
      " 22  mri_info_manufacturer_Philips Medical Systems  1000 non-null   uint8\n",
      " 23  mri_info_manufacturer_SIEMENS                  1000 non-null   uint8\n",
      "dtypes: uint8(24)\n",
      "memory usage: 31.2+ KB\n"
     ]
    }
   ],
   "source": [
    "cat_features.info()"
   ]
  },
  {
   "cell_type": "markdown",
   "metadata": {},
   "source": [
    "### Numerical and ordinal features\n",
    "\n",
    "Now we're going to select the numerical and ordinal features together. There is extensive debate in the mathematics and statistics communities on how best to treat ordinal data (e.g. treating it as qualitative or quantitative). The best answer is always ***it depends***. For pedagogical simplicity, we are going to combine the numerical and ordinal features and scale them to the range [0, 1].\n",
    "\n",
    "Use the same `select_dtypes()` method to create a dataframe with the numerical and ordinal features. Store this dataframe in the variable `num_df`.\n",
    "\n",
    "<details>\n",
    "<summary>Hint</summary>\n",
    "You can supply a list to `select_dtypes()` to select both the \"int64\" and \"float64\" types.\n",
    "</details>"
   ]
  },
  {
   "cell_type": "code",
   "execution_count": 47,
   "metadata": {},
   "outputs": [],
   "source": [
    "# Insert code to create `num_df` from only the numerical and ordinal features of `subset_df`.\n",
    "num_df = subset_df.select_dtypes(include=[\"float64\",\"int64\"])"
   ]
  },
  {
   "cell_type": "markdown",
   "metadata": {},
   "source": [
    "Use the `info()` method to confirm that we selected only the features we want."
   ]
  },
  {
   "cell_type": "code",
   "execution_count": 48,
   "metadata": {},
   "outputs": [
    {
     "name": "stdout",
     "output_type": "stream",
     "text": [
      "<class 'pandas.core.frame.DataFrame'>\n",
      "Index: 1000 entries, NDAR_INV5J93LHWW to NDAR_INVE48TT5LN\n",
      "Data columns (total 23 columns):\n",
      " #   Column                        Non-Null Count  Dtype  \n",
      "---  ------                        --------------  -----  \n",
      " 0   interview_age                 1000 non-null   int64  \n",
      " 1   anthroheightcalc              999 non-null    float64\n",
      " 2   anthroweightcalc              999 non-null    float64\n",
      " 3   ehi_y_ss_scoreb               1000 non-null   int64  \n",
      " 4   demo_comb_income_v2           1000 non-null   float64\n",
      " 5   snellen_aid_y                 995 non-null    float64\n",
      " 6   cbcl_scr_dsm5_adhd_r          999 non-null    float64\n",
      " 7   cbcl_scr_dsm5_adhd_t          999 non-null    float64\n",
      " 8   scrn_commondx                 0 non-null      float64\n",
      " 9   scrn_asd                      0 non-null      float64\n",
      " 10  pps_y_ss_severity_score       999 non-null    float64\n",
      " 11  pgbi_p_ss_score               998 non-null    float64\n",
      " 12  sag_grade_type                0 non-null      float64\n",
      " 13  nihtbx_reading_uncorrected    986 non-null    float64\n",
      " 14  nihtbx_flanker_uncorrected    984 non-null    float64\n",
      " 15  nihtbx_picvocab_uncorrected   986 non-null    float64\n",
      " 16  nihtbx_fluidcomp_uncorrected  976 non-null    float64\n",
      " 17  nihtbx_pattern_uncorrected    983 non-null    float64\n",
      " 18  smri_vol_cdk_total            988 non-null    float64\n",
      " 19  smri_vol_cdk_totallh          988 non-null    float64\n",
      " 20  smri_vol_cdk_totalrh          988 non-null    float64\n",
      " 21  smri_vol_scs_putamenlh        988 non-null    float64\n",
      " 22  smri_vol_scs_putamenrh        988 non-null    float64\n",
      "dtypes: float64(21), int64(2)\n",
      "memory usage: 187.5+ KB\n"
     ]
    }
   ],
   "source": [
    "num_df.info()"
   ]
  },
  {
   "cell_type": "markdown",
   "metadata": {},
   "source": [
    "The estimable [scikit-learn library](https://sklearn.org/) provides many common utility functions for scaling and standardizing data. We will use the [`MinMaxScaler`](https://sklearn.org/modules/generated/sklearn.preprocessing.MinMaxScaler.html#sklearn.preprocessing.MinMaxScaler) to scale our numerical features to lie between zero and one."
   ]
  },
  {
   "cell_type": "code",
   "execution_count": 49,
   "metadata": {},
   "outputs": [
    {
     "name": "stderr",
     "output_type": "stream",
     "text": [
      "/opt/conda/lib/python3.8/site-packages/sklearn/preprocessing/_data.py:373: RuntimeWarning: All-NaN slice encountered\n",
      "  data_min = np.nanmin(X, axis=0)\n",
      "/opt/conda/lib/python3.8/site-packages/sklearn/preprocessing/_data.py:374: RuntimeWarning: All-NaN slice encountered\n",
      "  data_max = np.nanmax(X, axis=0)\n"
     ]
    }
   ],
   "source": [
    "# Scale standardisation of numerical values\n",
    "minmax = MinMaxScaler(feature_range=(0, 1))\n",
    "\n",
    "num_features = pd.DataFrame(\n",
    "    minmax.fit_transform(num_df),\n",
    "    index=num_df.index,\n",
    "    columns=num_df.columns\n",
    ")"
   ]
  },
  {
   "cell_type": "code",
   "execution_count": 53,
   "metadata": {},
   "outputs": [
    {
     "data": {
      "text/plain": [
       "(1000, 23)"
      ]
     },
     "execution_count": 53,
     "metadata": {},
     "output_type": "execute_result"
    }
   ],
   "source": [
    "# check scaled df\n",
    "num_features.describe()"
   ]
  },
  {
   "cell_type": "markdown",
   "metadata": {},
   "source": [
    "And then concatenate our categorical and numerical features into a new dataframe called `df_scaled`."
   ]
  },
  {
   "cell_type": "code",
   "execution_count": 56,
   "metadata": {},
   "outputs": [
    {
     "name": "stdout",
     "output_type": "stream",
     "text": [
      "Data min, max: (0.0, 1.0000000000000002)\n"
     ]
    },
    {
     "data": {
      "text/plain": [
       "(None, (1000, 47), (1000, 23), (1000, 24))"
      ]
     },
     "execution_count": 56,
     "metadata": {},
     "output_type": "execute_result"
    }
   ],
   "source": [
    "df_scaled = pd.concat([num_features, cat_features], axis=\"columns\")\n",
    "\n",
    "# Confirm that all data lies between zero and one.\n",
    "print(f\"Data min, max: {df_scaled.min().min(), df_scaled.max().max()}\"), df_scaled.shape, num_features.shape,cat_features.shape"
   ]
  },
  {
   "cell_type": "markdown",
   "metadata": {},
   "source": [
    "### Choosing an appropriate distance metric\n",
    "\n",
    "Finally, we need to provide some notion of distance between different points in our dataset. ***Different distances are appropriate for different datatypes.*** For example, it is common to use the Euclidean distance or Manhattan distance for numerical datatypes and dice distance for categorical variables. For those, you could rely on the scipy function [`scipy.spatial.distance.pdist`](https://docs.scipy.org/doc/scipy/reference/generated/scipy.spatial.distance.pdist.html#scipy.spatial.distance.pdist) to generate the distance matrices.\n",
    "\n",
    "Since we have a mix of categorical and numerical features, we will use the [Gower's distance](https://www.jstor.org/stable/2528823?seq=1), which was proposed in 1971 as a measure of dissimilarity with mixed types of variables.\n",
    "\n",
    "We could write our own Python function to compute the Gower's distance, but one should always ask ***\"is there a pre-existing package that will do this for me?\"*** And of course, the answer is YES. There is a package called `gower` that will compute the Gower's distance matrix for us. It isn't available on the jupyterhub by default (and you might not have it on your local system).\n",
    "\n",
    "But we can install software without ever leaving the jupyter notebook. You can execute Terminal commands in the notebook cells by prepending an exclamation point/bang(!) to the beginning of the command. Let's install the gower package."
   ]
  },
  {
   "cell_type": "code",
   "execution_count": 21,
   "metadata": {},
   "outputs": [
    {
     "name": "stdout",
     "output_type": "stream",
     "text": [
      "Requirement already satisfied: gower in /opt/conda/lib/python3.8/site-packages (0.0.5)\n",
      "Requirement already satisfied: numpy in /opt/conda/lib/python3.8/site-packages (from gower) (1.19.4)\n",
      "Requirement already satisfied: scipy in /opt/conda/lib/python3.8/site-packages (from gower) (1.5.3)\n",
      "Requirement already satisfied: numpy in /opt/conda/lib/python3.8/site-packages (from gower) (1.19.4)\n"
     ]
    }
   ],
   "source": [
    "!pip install gower"
   ]
  },
  {
   "cell_type": "markdown",
   "metadata": {},
   "source": [
    "Now that we have `gower` installed, let's import it."
   ]
  },
  {
   "cell_type": "code",
   "execution_count": 35,
   "metadata": {},
   "outputs": [],
   "source": [
    "import gower"
   ]
  },
  {
   "cell_type": "markdown",
   "metadata": {},
   "source": [
    "Great! Let's compute that distance matrix. One commonly seen convention is to name the distance matrix `Y` and, later on, name the hierarchical clustering data `Z`.\n",
    "\n",
    "In a typical use case, one wishes to cluster individuals into different groups and we would do this by passing in the feature matrix stored in `df_scaled`. However, because we are clustering features, not subjects, we will pass in the transpose of the feature matrix. You can get the transpose of `df_scaled` using the `.T` attribute."
   ]
  },
  {
   "cell_type": "code",
   "execution_count": 58,
   "metadata": {},
   "outputs": [],
   "source": [
    "# Get the Gower's distance matrix\n",
    "Y = gower.gower_matrix(df_scaled.T).astype(np.float64)"
   ]
  },
  {
   "cell_type": "markdown",
   "metadata": {},
   "source": [
    "Let's quickly examine the structure of the distance matrix using matplotlib's `plt.matshow()` function. We can see that there is apparent banding in the distance matrix."
   ]
  },
  {
   "cell_type": "code",
   "execution_count": 59,
   "metadata": {},
   "outputs": [
    {
     "data": {
      "text/plain": [
       "<matplotlib.image.AxesImage at 0x7f55d81b9760>"
      ]
     },
     "execution_count": 59,
     "metadata": {},
     "output_type": "execute_result"
    },
    {
     "data": {
      "image/png": "[encoded data removed]",
      "text/plain": [
       "<Figure size 288x288 with 1 Axes>"
      ]
     },
     "metadata": {
      "needs_background": "light"
     },
     "output_type": "display_data"
    }
   ],
   "source": [
    "plt.matshow(Y)"
   ]
  },
  {
   "cell_type": "code",
   "execution_count": 85,
   "metadata": {},
   "outputs": [
    {
     "data": {
      "text/plain": [
       "array([[0.        , 0.063     , 0.079     , 0.064     , 0.072     ,\n",
       "        0.088     , 0.091     , 0.054     , 0.099     , 0.075     ],\n",
       "       [0.063     , 0.        , 0.098     , 0.083     , 0.091     ,\n",
       "        0.107     , 0.11      , 0.073     , 0.118     , 0.094     ],\n",
       "       [0.079     , 0.098     , 0.        , 0.099     , 0.107     ,\n",
       "        0.123     , 0.126     , 0.089     , 0.134     , 0.11      ],\n",
       "       [0.064     , 0.083     , 0.099     , 0.        , 0.092     ,\n",
       "        0.108     , 0.111     , 0.074     , 0.119     , 0.095     ],\n",
       "       [0.072     , 0.091     , 0.107     , 0.092     , 0.        ,\n",
       "        0.116     , 0.119     , 0.082     , 0.127     , 0.103     ],\n",
       "       [0.088     , 0.107     , 0.123     , 0.108     , 0.116     ,\n",
       "        0.        , 0.13500001, 0.098     , 0.14300001, 0.119     ],\n",
       "       [0.091     , 0.11      , 0.126     , 0.111     , 0.119     ,\n",
       "        0.13500001, 0.        , 0.101     , 0.146     , 0.122     ],\n",
       "       [0.054     , 0.073     , 0.089     , 0.074     , 0.082     ,\n",
       "        0.098     , 0.101     , 0.        , 0.109     , 0.085     ],\n",
       "       [0.099     , 0.118     , 0.134     , 0.119     , 0.127     ,\n",
       "        0.14300001, 0.146     , 0.109     , 0.        , 0.13      ],\n",
       "       [0.075     , 0.094     , 0.11      , 0.095     , 0.103     ,\n",
       "        0.119     , 0.122     , 0.085     , 0.13      , 0.        ]])"
      ]
     },
     "execution_count": 85,
     "metadata": {},
     "output_type": "execute_result"
    }
   ],
   "source": [
    "Y[30:40,30:40]"
   ]
  },
  {
   "cell_type": "markdown",
   "metadata": {},
   "source": [
    "There's a better way to visualize clustering in this distance matrix. The scipy library has a function, `scipy.cluster.hierarchy.linkage` which will perform hierarchical/agglomerative clustering given a distance matrix. It requires the distance matrix to be in \"condensed\" form and scipy also gives us a handy convenience function to covert from our \"uncondensed\" distance matrix to a condensed array."
   ]
  },
  {
   "cell_type": "code",
   "execution_count": 86,
   "metadata": {},
   "outputs": [],
   "source": [
    "# That result was in \"uncondensed form\". Let's use a scipy convenience\n",
    "# function to convert it into a condensed array form. This stores only\n",
    "# the upper triangular part since `Y` is a symmetric matrix.\n",
    "Y = squareform(Y[30:40,30:40])"
   ]
  },
  {
   "cell_type": "markdown",
   "metadata": {},
   "source": [
    "Now we can use `linkage` to perform the hierarchical clustering of our feature space."
   ]
  },
  {
   "cell_type": "code",
   "execution_count": 87,
   "metadata": {},
   "outputs": [],
   "source": [
    "Z = linkage(Y, method=\"complete\", optimal_ordering=True)"
   ]
  },
  {
   "cell_type": "markdown",
   "metadata": {},
   "source": [
    "$Z$ is a $(p - 1) \\times 4$ matrix, where $p$ is the number of features in our scaled dataset. Here's how to interpret $Z$:\n",
    "- At the $i$-th iteration, the sub-clusters with indices $Z[i, 0]$ and $Z[i, 1]$ combine to form a new cluster.\n",
    "- If $Z[i, 0]$ or $Z[i, 1]$ is less than $p$, then that index refers to one of the original features\n",
    "- The distance between clusters $Z[i, 0]$ and $Z[i, 1]$ is stored in $Z[i, 2]$.\n",
    "- The fourth value $Z[i, 3]$ contains the number of original observations in the newly formed cluster."
   ]
  },
  {
   "cell_type": "markdown",
   "metadata": {},
   "source": [
    "That sounds like pretty complicated output, but we can use scipy's `dendrogram` function to visualize the heirarchical clustering using a [dendrogram](https://en.wikipedia.org/wiki/Dendrogram). The height of each bracket is representative of the distance between features or subclusters."
   ]
  },
  {
   "cell_type": "code",
   "execution_count": 88,
   "metadata": {},
   "outputs": [
    {
     "data": {
      "image/png": "[encoded data removed]",
      "text/plain": [
       "<Figure size 1440x504 with 1 Axes>"
      ]
     },
     "metadata": {
      "needs_background": "light"
     },
     "output_type": "display_data"
    }
   ],
   "source": [
    "fig, ax = plt.subplots(1, 1, figsize=(20, 7))\n",
    "dn = dendrogram(\n",
    "    Z,\n",
    "    ax=ax,\n",
    "    orientation=\"top\",\n",
    "    distance_sort='descending',\n",
    "    show_leaf_counts=True,\n",
    ")\n",
    "\n",
    "# `dn[\"ivl\"] stores a list of the feature indices in the order they appear on the x axis.\n",
    "# Let's label the x-axis using the actual feature names rather than the indices\n",
    "_ = ax.set_xticklabels(\n",
    "    [list(df_scaled.columns)[int(i)] for i in dn[\"ivl\"]],\n",
    "    rotation=90,\n",
    "    fontsize=16,\n",
    ")\n",
    "\n",
    "yticks = np.linspace(0.0, 0.8, 5)\n",
    "_ = ax.set_yticks(yticks)\n",
    "_ = ax.set_yticklabels([round(y, 1) for y in yticks], fontsize=16)"
   ]
  },
  {
   "cell_type": "markdown",
   "metadata": {},
   "source": [
    "There's a lot going on here. One thing we notice immediately is that there are two pairs of KSADS features with zero distance between them. That is, the length of the vertical lines connecting [\"ksads_13_929_t\", \"ksads_25_33_t] and [\"ksads_1_2_t\", \"ksads_8_29_t] are negligible. We can verify this using seaborn's `pairplot` function."
   ]
  },
  {
   "cell_type": "code",
   "execution_count": 90,
   "metadata": {},
   "outputs": [
    {
     "data": {
      "image/png": "[encoded data removed]",
      "text/plain": [
       "<Figure size 360x360 with 6 Axes>"
      ]
     },
     "metadata": {
      "needs_background": "light"
     },
     "output_type": "display_data"
    }
   ],
   "source": [
    "_ = sns.pairplot(\n",
    "    subset_df,\n",
    "    vars=[\"interview_age\", \"anthroheightcalc\"]\n",
    ")"
   ]
  },
  {
   "cell_type": "markdown",
   "metadata": {},
   "source": [
    "And we can strengthen our intuition about this perfect correlation by viewing the data structure on NDA:\n",
    "\n",
    "https://nda.nih.gov/data_structure.html?short_name=abcd_ksad501\n",
    "\n",
    "For your own data subset, use the dendrogram to identify highly correlated features. Find those features using the NDA data query and address their correlation in the text box below. It is prepopulated with an example for this subset of features but you should write your own using your selected features."
   ]
  },
  {
   "cell_type": "markdown",
   "metadata": {},
   "source": [
    "> The two correlated pairs are:\n",
    "> \n",
    "> - \"ksads_25_33_t\": Symptom - Failure to speak in social situations, Past\n",
    "> - \"ksads_13_929_t\": Diagnosis - Anorexia Nervosa (F50.02) Binge eating/purging subtype, PRESENT\n",
    "> \n",
    "> and\n",
    "> \n",
    "> - \"ksads_1_2_t\": Symptom - Depressed Mood, Past\n",
    "> - \"ksads_8_29_t\": Symptom - Fear of Social Situations Present\n",
    "> \n",
    "> It seems reasonable to expect high comorbidity in these two pairs of features.\n",
    "> \n",
    "> Additionally, as expected, we see that the one-hot-encoded features for Site ID are well correlated.\n",
    "> \n",
    "> Lastly, we see that the \"mri_info_manufacturer_Philips Medical Systems\" indicator feature is first clustered with the indicator variable for \"site17\". This makes sense since the Philips Medical Systems scanners are only located at three sites in our subset, and most of the subjects scanned on them came from \"site17\" (see histogram below).\n",
    "\n",
    "***Insert your own explanation below this line.***\n",
    "\n",
    "\n",
    "\n",
    "\n",
    "\n"
   ]
  },
  {
   "cell_type": "code",
   "execution_count": 91,
   "metadata": {},
   "outputs": [
    {
     "data": {
      "image/png": "[encoded data removed]",
      "text/plain": [
       "<Figure size 432x288 with 1 Axes>"
      ]
     },
     "metadata": {
      "needs_background": "light"
     },
     "output_type": "display_data"
    }
   ],
   "source": [
    "_ = subset_df[subset_df[\"mri_info_manufacturer\"] == \"Philips Medical Systems\"][\"site_id_l\"].hist()"
   ]
  },
  {
   "cell_type": "markdown",
   "metadata": {},
   "source": [
    "## With great power...\n",
    "\n",
    "Lastly, you can see there are a lot of choices here:\n",
    "- How do you treat ordinal data?\n",
    "- How do you scale or standardize your data?\n",
    "- Which distance metric is most appropriate?\n",
    "- What linkage method should you use for hierarchical clustering?\n",
    "Scipy makes it very easy to do the clustering, but it's up to you to make the choices and understand the implications. \n",
    "\n",
    "One thing you can do to check for internal consistency of your choice of metric is check the [Cophenetic Correlation Coefficient](https://en.wikipedia.org/wiki/Cophenetic_correlation) of your clustering with help of the [`cophenet()`](http://docs.scipy.org/doc/scipy/reference/generated/scipy.cluster.hierarchy.cophenet.html) function. This compares the actual pairwise distances of your data to those computed by the hierarchical clustering. The closer the value is to 1, the better the clustering preserves the original distances.\n",
    "\n",
    "In our case, since `Z` was computed using the Gower distance, which combined the Manhattan (or \"cityblock\") distance for numerical values and the dice distance for categorical values, we will calculate the cophenetic correlation coefficient between our clustering distances and the \"cityblock\" distance using the [`pdist()`](https://docs.scipy.org/doc/scipy/reference/generated/scipy.spatial.distance.pdist.html#scipy.spatial.distance.pdist) function."
   ]
  },
  {
   "cell_type": "code",
   "execution_count": 100,
   "metadata": {},
   "outputs": [
    {
     "ename": "SyntaxError",
     "evalue": "unmatched ')' (<ipython-input-100-8bd62281f86e>, line 4)",
     "output_type": "error",
     "traceback": [
      "\u001b[0;36m  File \u001b[0;32m\"<ipython-input-100-8bd62281f86e>\"\u001b[0;36m, line \u001b[0;32m4\u001b[0m\n\u001b[0;31m    c, coph_dists = cophenet(Z, pdist(Y2), \"cityblock\"))\u001b[0m\n\u001b[0m                                                       ^\u001b[0m\n\u001b[0;31mSyntaxError\u001b[0m\u001b[0;31m:\u001b[0m unmatched ')'\n"
     ]
    }
   ],
   "source": [
    "c, coph_dists = cophenet(Z, pdist(df_scaled.T.values, \"cityblock\"))\n",
    "print(f\"Cophenetic correlation coefficient: {c}\")"
   ]
  },
  {
   "cell_type": "markdown",
   "metadata": {},
   "source": [
    "And we see that the clustering distances are pretty close to the pairwise Manhattan distances.\n",
    "\n",
    "Compute the cophenetic correlation coefficient for your choice of linkage method and distance metric."
   ]
  }
 ],
 "metadata": {
  "jupytext": {
   "formats": "ipynb,md"
  },
  "kernelspec": {
   "display_name": "Python 3",
   "language": "python",
   "name": "python3"
  },
  "language_info": {
   "codemirror_mode": {
    "name": "ipython",
    "version": 3
   },
   "file_extension": ".py",
   "mimetype": "text/x-python",
   "name": "python",
   "nbconvert_exporter": "python",
   "pygments_lexer": "ipython3",
   "version": "3.8.6"
  }
 },
 "nbformat": 4,
 "nbformat_minor": 4
}
